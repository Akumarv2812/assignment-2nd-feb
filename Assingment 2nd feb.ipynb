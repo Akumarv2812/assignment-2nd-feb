{
 "cells": [
  {
   "cell_type": "code",
   "execution_count": null,
   "id": "4903d19b-00a6-4570-8740-4b324551941c",
   "metadata": {},
   "outputs": [],
   "source": [
    "#Answer:1\n",
    "A \"While\" Loop is used to repeat a specific block of code an unknown number of times, until a condition is met. \n",
    "For example, if we want to ask a user for a number between 1 and 10, \n",
    "we don't know how many times the user may enter a larger number, \n",
    "so we keep asking \"while the number is not between 1 and 10\"."
   ]
  },
  {
   "cell_type": "code",
   "execution_count": 11,
   "id": "839cb1c4-6adb-4bd0-97e4-c5c4c0e1f9a9",
   "metadata": {},
   "outputs": [
    {
     "name": "stdin",
     "output_type": "stream",
     "text": [
      "Enter a number:  10\n"
     ]
    },
    {
     "name": "stdout",
     "output_type": "stream",
     "text": [
      "The result is 55\n"
     ]
    }
   ],
   "source": [
    "#Answer:2\n",
    "num = int(input(\"Enter a number: \")) \n",
    "\n",
    "if num < 0:\n",
    "    print(\"Please enter a positive number\")\n",
    "else:    \n",
    "    sum = 0\n",
    "   \n",
    "   # use while loop to iterate until zero\n",
    "    while(num > 0):\n",
    "        sum += num\n",
    "        num -= 1\n",
    "    print(\"The result is\", sum)"
   ]
  },
  {
   "cell_type": "code",
   "execution_count": 8,
   "id": "35381b4d-ca1f-4e15-8967-7fb7468cf06b",
   "metadata": {},
   "outputs": [
    {
     "name": "stdin",
     "output_type": "stream",
     "text": [
      "enter the total unit 310\n"
     ]
    },
    {
     "name": "stdout",
     "output_type": "stream",
     "text": [
      "the electricity bill is 2250.0\n"
     ]
    }
   ],
   "source": [
    "#Answer:3\n",
    "n = int(input(\"enter the total unit\"))\n",
    "if n >= 0 and n<101:\n",
    "    print(\"the electricity bill is\", n*4.5)\n",
    "elif n > 100 and n<201:\n",
    "    print(\"the electricity bill is\",((n-100)*6)+ (100*4.5))\n",
    "elif n > 200 and n<301:\n",
    "    print(\"the electricity bill is\",((n-200)*10)+(100*6)+(100*4.5))\n",
    "elif n >300:\n",
    "    print(\"the electricity bill is\",((n-300)*20)+(100*10)+(100*6)+(100*4.5))\n",
    "else:\n",
    "    print(\"you enter the wrong unit\")"
   ]
  },
  {
   "cell_type": "code",
   "execution_count": 15,
   "id": "f2169030-0ed5-43b8-b13c-77cade01263d",
   "metadata": {},
   "outputs": [
    {
     "name": "stdout",
     "output_type": "stream",
     "text": [
      "[0.2, 0.4, 0.6, 0.8, 1.0, 1.2, 1.4, 1.6, 1.8, 2.0, 2.2, 2.4, 2.6, 2.8, 3.0, 3.2, 3.4, 3.6, 3.8, 4.0, 4.2, 4.4, 4.6, 4.8, 5.0, 5.2, 5.4, 5.6, 5.8, 6.0, 6.2, 6.4, 6.6, 6.8, 7.0, 7.2, 7.4, 7.6, 7.8, 8.0, 8.2, 8.4, 8.6, 8.8, 9.0, 9.2, 9.4, 9.6, 9.8, 10.0, 10.2, 10.4, 10.6, 10.8, 11.0, 11.2, 11.4, 11.6, 11.8, 12.0, 12.2, 12.4, 12.6, 12.8, 13.0, 13.2, 13.4, 13.6, 13.8, 14.0, 14.2, 14.4, 14.6, 14.8, 15.0, 15.2, 15.4, 15.6, 15.8, 16.0, 16.2, 16.4, 16.6, 16.8, 17.0, 17.2, 17.4, 17.6, 17.8, 18.0, 18.2, 18.4, 18.6, 18.8, 19.0, 19.2, 19.4, 19.6, 19.8]\n"
     ]
    }
   ],
   "source": [
    "#Answer:4\n",
    "list=[i/5 for i in range(1,100)] \n",
    "print(list) "
   ]
  },
  {
   "cell_type": "code",
   "execution_count": 20,
   "id": "bf230544-8c0a-442d-9b49-de8b8c7be2da",
   "metadata": {},
   "outputs": [
    {
     "name": "stdout",
     "output_type": "stream",
     "text": [
      "Number of vowels are:\n",
      "12\n"
     ]
    }
   ],
   "source": [
    "#Answer:5\n",
    "string=(\"i want to become a data scientist\")\n",
    "vowels=0\n",
    "for i in string:\n",
    "      if(i=='a' or i=='e' or i=='i' or i=='o' or i=='u' or i=='A' or i=='E' or i=='I' or i=='O' or i=='U'):\n",
    "            vowels=vowels+1\n",
    "print(\"Number of vowels are:\")\n",
    "print(vowels)"
   ]
  },
  {
   "cell_type": "code",
   "execution_count": null,
   "id": "8d380dd2-ced0-42ac-bcea-0023b516698b",
   "metadata": {},
   "outputs": [],
   "source": []
  }
 ],
 "metadata": {
  "kernelspec": {
   "display_name": "Python 3 (ipykernel)",
   "language": "python",
   "name": "python3"
  },
  "language_info": {
   "codemirror_mode": {
    "name": "ipython",
    "version": 3
   },
   "file_extension": ".py",
   "mimetype": "text/x-python",
   "name": "python",
   "nbconvert_exporter": "python",
   "pygments_lexer": "ipython3",
   "version": "3.10.6"
  }
 },
 "nbformat": 4,
 "nbformat_minor": 5
}
